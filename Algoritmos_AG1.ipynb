{
  "nbformat": 4,
  "nbformat_minor": 0,
  "metadata": {
    "colab": {
      "provenance": []
    },
    "kernelspec": {
      "name": "python3",
      "display_name": "Python 3"
    },
    "language_info": {
      "name": "python"
    }
  },
  "cells": [
    {
      "cell_type": "markdown",
      "source": [
        "ACTIVIDAD GUIADA 1: ALGORITMOS DE OPTIMIZACIÓN <BR>\n",
        "Nombre: Izaskun Cia Alonso <BR>\n",
        "Enlace cuaderno:   https://colab.research.google.com/drive/1sCRg_6FzPyBtkMW5jbk8hekINpxD0nHT?usp=sharing <BR>\n",
        "Enlace github: https://github.com/izascia/03MIAR---Algoritmos-de-Optimizacion.git\n",
        "* Actividad extra para subir nota"
      ],
      "metadata": {
        "id": "TxWMSfbQOO7J"
      }
    },
    {
      "cell_type": "code",
      "source": [
        "# TORRES DE HANOY (DIVIDE Y VENCERAS)\n",
        "def torres_hanoy(N,desde,hasta): \n",
        "  # N = nº de torres\n",
        "  # desde = nº poste inicial\n",
        "  # hasta = nº poste final\n",
        "  if N==1:\n",
        "    print(\"Llevar desde \"+str(desde)+ \" hasta \"+str(hasta))\n",
        "  else:\n",
        "    torres_hanoy(N-1, desde, 6-desde-hasta)\n",
        "    print(\"Llevar desde \"+str(desde)+\" hasta \"+str(hasta))\n",
        "    torres_hanoy(N-1, 6-desde-hasta, hasta)"
      ],
      "metadata": {
        "id": "bVIwFf2eOnso"
      },
      "execution_count": 3,
      "outputs": []
    },
    {
      "cell_type": "code",
      "source": [
        "torres_hanoy(3,1,3)"
      ],
      "metadata": {
        "colab": {
          "base_uri": "https://localhost:8080/"
        },
        "id": "8HmQqbz1ABbC",
        "outputId": "dae2fc01-d262-4112-82d5-9d2c63ab62bb"
      },
      "execution_count": 4,
      "outputs": [
        {
          "output_type": "stream",
          "name": "stdout",
          "text": [
            "Llevar desde 1 hasta 3\n",
            "Llevar desde 1 hasta 2\n",
            "Llevar desde 3 hasta 2\n",
            "Llevar desde 1 hasta 3\n",
            "Llevar desde 2 hasta 1\n",
            "Llevar desde 2 hasta 3\n",
            "Llevar desde 1 hasta 3\n"
          ]
        }
      ]
    },
    {
      "cell_type": "code",
      "source": [
        "torres_hanoy(4,1,3)"
      ],
      "metadata": {
        "colab": {
          "base_uri": "https://localhost:8080/"
        },
        "id": "SajjB1nQ7ffv",
        "outputId": "565d5bc4-7325-4e7e-9fc9-cb41f6edd04b"
      },
      "execution_count": 5,
      "outputs": [
        {
          "output_type": "stream",
          "name": "stdout",
          "text": [
            "Llevar desde 1 hasta 2\n",
            "Llevar desde 1 hasta 3\n",
            "Llevar desde 2 hasta 3\n",
            "Llevar desde 1 hasta 2\n",
            "Llevar desde 3 hasta 1\n",
            "Llevar desde 3 hasta 2\n",
            "Llevar desde 1 hasta 2\n",
            "Llevar desde 1 hasta 3\n",
            "Llevar desde 2 hasta 3\n",
            "Llevar desde 2 hasta 1\n",
            "Llevar desde 3 hasta 1\n",
            "Llevar desde 2 hasta 3\n",
            "Llevar desde 1 hasta 2\n",
            "Llevar desde 1 hasta 3\n",
            "Llevar desde 2 hasta 3\n"
          ]
        }
      ]
    },
    {
      "cell_type": "code",
      "source": [
        "# CAMBIO DE MONEDAS (TÉCNICA VORAZ)\n",
        "def cambio_monedas(CANTIDAD, SISTEMA):\n",
        "  valor_acumulado = 0\n",
        "  SOLUCION = [0]*len(SISTEMA)\n",
        "  for i, valor in enumerate(SISTEMA):\n",
        "    monedas = (CANTIDAD-valor_acumulado)//valor\n",
        "    SOLUCION[i] = monedas\n",
        "    valor_acumulado += monedas*valor \n",
        "\n",
        "    if CANTIDAD == valor_acumulado:\n",
        "      return SOLUCION\n",
        "  print('No es posible encontrar solución')\n"
      ],
      "metadata": {
        "id": "vuNgXGfT7ox6"
      },
      "execution_count": 6,
      "outputs": []
    },
    {
      "cell_type": "code",
      "source": [
        "cambio_monedas(15, [12,5,2,1])"
      ],
      "metadata": {
        "colab": {
          "base_uri": "https://localhost:8080/"
        },
        "id": "KUKaAnwwbPmm",
        "outputId": "60ed092e-0a76-43c2-f837-3e48df3fcf34"
      },
      "execution_count": 7,
      "outputs": [
        {
          "output_type": "execute_result",
          "data": {
            "text/plain": [
              "[1, 0, 1, 1]"
            ]
          },
          "metadata": {},
          "execution_count": 7
        }
      ]
    },
    {
      "cell_type": "code",
      "source": [
        "cambio_monedas(15,[11,5,1])"
      ],
      "metadata": {
        "colab": {
          "base_uri": "https://localhost:8080/"
        },
        "id": "3OKd7CNaey_a",
        "outputId": "c7915335-6d6b-42d5-802c-e6ae79e83576"
      },
      "execution_count": 8,
      "outputs": [
        {
          "output_type": "execute_result",
          "data": {
            "text/plain": [
              "[1, 0, 4]"
            ]
          },
          "metadata": {},
          "execution_count": 8
        }
      ]
    },
    {
      "cell_type": "code",
      "source": [
        "# N REINAS (VUELTA ATRAS)\n",
        "def es_prometedora(SOLUCION, etapa):\n",
        "  for i in range(etapa+1):\n",
        "    if SOLUCION.count(SOLUCION[i])>1: \n",
        "      return False\n",
        "    for j in range(i+1, etapa+1):\n",
        "      if abs(i-j) == abs(SOLUCION[i]-SOLUCION[j]): \n",
        "        return False\n",
        "  return True\n",
        "  \n",
        "def reinas(N, SOLUCION, etapa):\n",
        "  if len(SOLUCION) == 0:\n",
        "    SOLUCION = [0]*N\n",
        "\n",
        "  for i in range(1,N+1):\n",
        "    \n",
        "    SOLUCION[etapa] = i\n",
        "\n",
        "    if es_prometedora(SOLUCION, etapa):\n",
        "      if etapa == N-1: print(SOLUCION)\n",
        "      else:\n",
        "        reinas(N, SOLUCION, etapa+1)\n",
        "    else: None\n",
        "  SOLUCION[etapa] = 0\n",
        "        \n",
        "reinas(4,[],0)"
      ],
      "metadata": {
        "id": "0RinxfalfYgN",
        "colab": {
          "base_uri": "https://localhost:8080/"
        },
        "outputId": "269efe7e-a4a6-4906-e3f5-c597eafc4b40"
      },
      "execution_count": 9,
      "outputs": [
        {
          "output_type": "stream",
          "name": "stdout",
          "text": [
            "[2, 4, 1, 3]\n",
            "[3, 1, 4, 2]\n"
          ]
        }
      ]
    },
    {
      "cell_type": "code",
      "source": [
        "def escribe_solucion(S):\n",
        "  n = len(S)\n",
        "  for x in range(n):\n",
        "    print(\"\")\n",
        "    for i in range(n):\n",
        "      if S[i] == x+1:\n",
        "        print(\" X \" , end=\"\")\n",
        "      else:\n",
        "        print(\" - \", end=\"\")"
      ],
      "metadata": {
        "id": "4k1JbM9Ut2vp"
      },
      "execution_count": 10,
      "outputs": []
    },
    {
      "cell_type": "code",
      "source": [
        "escribe_solucion([2, 4, 1, 3])\n"
      ],
      "metadata": {
        "colab": {
          "base_uri": "https://localhost:8080/"
        },
        "id": "xq4bb-pOz5W3",
        "outputId": "ea419782-75e1-46be-8109-d31c898e3616"
      },
      "execution_count": 11,
      "outputs": [
        {
          "output_type": "stream",
          "name": "stdout",
          "text": [
            "\n",
            " -  -  X  - \n",
            " X  -  -  - \n",
            " -  -  -  X \n",
            " -  X  -  - "
          ]
        }
      ]
    },
    {
      "cell_type": "code",
      "source": [
        "escribe_solucion([3, 1, 4, 2])"
      ],
      "metadata": {
        "id": "R3HpIj0l1M7H",
        "colab": {
          "base_uri": "https://localhost:8080/"
        },
        "outputId": "36ac7cca-07aa-4901-8a0a-9d3d139691b5"
      },
      "execution_count": 12,
      "outputs": [
        {
          "output_type": "stream",
          "name": "stdout",
          "text": [
            "\n",
            " -  X  -  - \n",
            " -  -  -  X \n",
            " X  -  -  - \n",
            " -  -  X  - "
          ]
        }
      ]
    },
    {
      "cell_type": "markdown",
      "source": [
        "PRÁCTICA INDIVIDUAL: <Br>\n",
        "Encontrar los dos puntos mas cercanos.  <Br>\n",
        "- Primer intento: Fuerza bruta\n",
        "- Calcular la complejidad ¿Se puede mejorar?\n",
        "- Segundo intento. Aplica divide y vencerás.\n",
        "- Calcular la complejidad ¿Se puede mejorar?\n",
        "\n"
      ],
      "metadata": {
        "id": "y2OPrZi6-dNl"
      }
    },
    {
      "cell_type": "code",
      "source": [
        "import random\n",
        "LISTA_1D = [random.randrange(1,1000) for x in range(1000)]\n",
        "# LISTA_1D"
      ],
      "metadata": {
        "id": "ByxMUbKb-2Nl"
      },
      "execution_count": 13,
      "outputs": []
    },
    {
      "cell_type": "markdown",
      "source": [
        "FUERZA BRUTA: Vamos recorriendo todos los posibles pares de elementos de la lista y nos quedamos con aquellos dos tales que su distancia es mínima. <Br> Al tener que añadir dos bucles anidados parece que la complejidad computacional va a ser de orden cuadrático."
      ],
      "metadata": {
        "id": "1PVVl_1Psoa6"
      }
    },
    {
      "cell_type": "code",
      "source": [
        "# FUERZA BRUTA\n",
        "def fuerza_bruta(lista):\n",
        "  dist = 100000e10\n",
        "  for i in range(len(lista)):\n",
        "    for j in range(i+1, len(lista)):\n",
        "      new_dist = abs(lista[i]-lista[j])\n",
        "      if new_dist < dist:\n",
        "        dist = new_dist\n",
        "        a = lista[i]\n",
        "        b = lista[j]\n",
        "  return a,b"
      ],
      "metadata": {
        "id": "g3eXD1SH_woH"
      },
      "execution_count": 14,
      "outputs": []
    },
    {
      "cell_type": "code",
      "source": [
        "fuerza_bruta([0,6,45,44,3])"
      ],
      "metadata": {
        "colab": {
          "base_uri": "https://localhost:8080/"
        },
        "id": "5WjkjB71AVxR",
        "outputId": "464c7456-c0b4-4c1e-a496-40a70a797b11"
      },
      "execution_count": 15,
      "outputs": [
        {
          "output_type": "execute_result",
          "data": {
            "text/plain": [
              "(45, 44)"
            ]
          },
          "metadata": {},
          "execution_count": 15
        }
      ]
    },
    {
      "cell_type": "markdown",
      "source": [
        "Complejidad computacional: <Br> \n",
        "Tenemos dos bucles anidados: $n(n-1)$. <Br>\n",
        "Vamos a ver el número de operaciones que hay en cada iteración de estos bucles (7 OE). <Br>\n",
        "- Inicializacion de dist: 1 OE\n",
        "- Cálculo de new_dist: 3 OE\n",
        "- Condición if: 1 OE\n",
        "- Dentro de la condición: 3 OE \n",
        "<Br>\n",
        "\n",
        "Número de operaciones: $7n(n-1)+4$ <Br> \n",
        "Coste computacional: $o(n^2)$"
      ],
      "metadata": {
        "id": "BhgdhgYWBWIM"
      }
    },
    {
      "cell_type": "markdown",
      "source": [
        "DIVIDE Y VENCERAS: Vamos a hacerlo en dos partes este algoritmo <Br>\n",
        "- Ordenamos la lista utilizando la técnica de merge sort : $o(n \\cdot log(n))$\n",
        "- Vamos recorriendo los elementos de la lista consecutivos y nos quedamos con los de mínima distancia: $o(n)$ <Br> \n",
        "\n",
        "Parece que la complejidad va a ser: $o(n \\cdot log(n)+n) = o(n \\cdot log(n))$"
      ],
      "metadata": {
        "id": "fExbZpomtAJx"
      }
    },
    {
      "cell_type": "code",
      "source": [
        "# Primero hacemos una función que aplique sobre una lista el método merge sort para ordenarla\n",
        "def mergeSort(arr):\n",
        "\tif len(arr) > 1:\n",
        "\t\tmid = len(arr)//2\n",
        "\t\tL = arr[:mid]\n",
        "\t\tR = arr[mid:]\n",
        "\t\tmergeSort(L)\n",
        "\t\tmergeSort(R)\n",
        "\n",
        "\t\ti = j = k = 0\n",
        "\n",
        "\t\twhile i < len(L) and j < len(R):\n",
        "\t\t\tif L[i] <= R[j]:\n",
        "\t\t\t\tarr[k] = L[i]\n",
        "\t\t\t\ti += 1\n",
        "\t\t\telse:\n",
        "\t\t\t\tarr[k] = R[j]\n",
        "\t\t\t\tj += 1\n",
        "\t\t\tk += 1\n",
        "\n",
        "\t\twhile i < len(L):\n",
        "\t\t\tarr[k] = L[i]\n",
        "\t\t\ti += 1\n",
        "\t\t\tk += 1\n",
        "\n",
        "\t\twhile j < len(R):\n",
        "\t\t\tarr[k] = R[j]\n",
        "\t\t\tj += 1\n",
        "\t\t\tk += 1"
      ],
      "metadata": {
        "id": "9MqgFC7TShwm"
      },
      "execution_count": 20,
      "outputs": []
    },
    {
      "cell_type": "code",
      "source": [
        "lista = [-100,0,-100.2]"
      ],
      "metadata": {
        "id": "FEJbiTDnYXtE"
      },
      "execution_count": 21,
      "outputs": []
    },
    {
      "cell_type": "code",
      "source": [
        "# una vez ordenada la lista recorremos la lista para encontrar los valores mas cercanos\n",
        "def divide_venceras(lista):\n",
        "  mergeSort(lista)\n",
        "  d = 1000e10\n",
        "  valores_min = 0,d\n",
        "  for i in range(len(lista)-1):\n",
        "    dist = lista[i+1]-lista[i]\n",
        "    if dist < d:\n",
        "      d = dist\n",
        "      valores_min = lista[i], lista[i+1]\n",
        "  return valores_min"
      ],
      "metadata": {
        "id": "QKEcsYXqYbu9"
      },
      "execution_count": 22,
      "outputs": []
    },
    {
      "cell_type": "code",
      "source": [
        "divide_venceras(lista)"
      ],
      "metadata": {
        "colab": {
          "base_uri": "https://localhost:8080/"
        },
        "id": "WXmNchrgYgA3",
        "outputId": "04554134-1513-42d7-ea12-314d8bc24807"
      },
      "execution_count": 23,
      "outputs": [
        {
          "output_type": "execute_result",
          "data": {
            "text/plain": [
              "(-100.2, -100)"
            ]
          },
          "metadata": {},
          "execution_count": 23
        }
      ]
    }
  ]
}