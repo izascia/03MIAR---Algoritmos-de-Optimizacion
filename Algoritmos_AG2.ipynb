{
  "nbformat": 4,
  "nbformat_minor": 0,
  "metadata": {
    "colab": {
      "provenance": []
    },
    "kernelspec": {
      "name": "python3",
      "display_name": "Python 3"
    },
    "language_info": {
      "name": "python"
    }
  },
  "cells": [
    {
      "cell_type": "markdown",
      "source": [
        "# AG2: ALGORITMOS DE OPTIMIZACIÓN <BR>\n",
        "Nombre: Izaskun Cia Alonso <BR>\n",
        "Enlace cuaderno:   https://colab.research.google.com/drive/1d9jewCLkeQrV34MS2_lXHz1HXjrP3nP1?usp=sharing <BR>\n",
        "Enlace github: https://github.com/izascia/03MIAR---Algoritmos-de-Optimizacion.git\n",
        "* Actividad extra subir nota hecha"
      ],
      "metadata": {
        "id": "b7DOpirC7y-I"
      }
    },
    {
      "cell_type": "markdown",
      "source": [
        "### PROBLEMA DEL AGENTE VIAJERO - PROGRAMACIÓN DINÁMICA "
      ],
      "metadata": {
        "id": "wWqakA4toHBZ"
      }
    },
    {
      "cell_type": "code",
      "source": [
        "import math\n",
        "# programación dinámica"
      ],
      "metadata": {
        "id": "KGBWczoa70ZP"
      },
      "execution_count": 1,
      "outputs": []
    },
    {
      "cell_type": "code",
      "source": [
        "# definimos las tarifas para ir de un nodo a otro \n",
        "# en los que no existe la tabla ponemos un valor alto, así como queremos minimar el coste no va a tomar esa arista.\n",
        "TARIFAS = [\n",
        "[0,5,4,3,float(\"inf\"),999,999],   #desde nodo 0\n",
        "[999,0,999,2,3,999,11],  #desde nodo 1\n",
        "[999,999, 0,1,999,4,10], #desde nodo 2\n",
        "[999,999,999, 0,5,6,9],\n",
        "[999,999, 999,999,0,999,4],\n",
        "[999,999, 999,999,999,0,3],\n",
        "[999,999,999,999,999,999,0]\n",
        "]\n",
        "\n",
        "# así mediante está función tenemos el coste para ir de un nodo a otro con un solo paso\n",
        "TARIFAS"
      ],
      "metadata": {
        "id": "JmNLGvtA8_v-",
        "colab": {
          "base_uri": "https://localhost:8080/"
        },
        "outputId": "b9c72527-774f-430c-ed91-b55fde37a97b"
      },
      "execution_count": 2,
      "outputs": [
        {
          "output_type": "execute_result",
          "data": {
            "text/plain": [
              "[[0, 5, 4, 3, inf, 999, 999],\n",
              " [999, 0, 999, 2, 3, 999, 11],\n",
              " [999, 999, 0, 1, 999, 4, 10],\n",
              " [999, 999, 999, 0, 5, 6, 9],\n",
              " [999, 999, 999, 999, 0, 999, 4],\n",
              " [999, 999, 999, 999, 999, 0, 3],\n",
              " [999, 999, 999, 999, 999, 999, 0]]"
            ]
          },
          "metadata": {},
          "execution_count": 2
        }
      ]
    },
    {
      "cell_type": "code",
      "source": [
        "#Calculo de la matriz de PRECIOS y RUTAS\n",
        "#  PRECIOS - contiene la matriz del mejor precio para ir de un nodo a otro\n",
        "#  RUTAS   - contiene los nodos intermedios para ir de un nodo a otro\n",
        "# Cálcula\n",
        "def Precios(TARIFAS):\n",
        "  #Total de Nodos\n",
        "  N = len(TARIFAS[0])\n",
        "  \n",
        "  #Inicialización de la tabla de precios\n",
        "  PRECIOS = [ [9999]*N for i in [9999]*N]  #n x n \n",
        "  RUTA = [ [\"\"]*N for i in [\"\"]*N]\n",
        "  \n",
        "  #Se recorren todos los nodos con dos bucles(origen - destino)\n",
        "  #  para ir construyendo la matriz de PRECIOS\n",
        "  for i in range(N-1):\n",
        "    for j in range(i+1, N):\n",
        "      MIN = TARIFAS[i][j]\n",
        "      RUTA[i][j] = i\n",
        "      \n",
        "      for k in range(i, j):\n",
        "        if PRECIOS[i][k] + TARIFAS[k][j] < MIN:\n",
        "            MIN = min(MIN, PRECIOS[i][k] + TARIFAS[k][j] )\n",
        "            RUTA[i][j] = k\n",
        "        PRECIOS[i][j] = MIN\n",
        "        \n",
        "  return PRECIOS,RUTA"
      ],
      "metadata": {
        "id": "xTnzFWtoNYux"
      },
      "execution_count": 3,
      "outputs": []
    },
    {
      "cell_type": "code",
      "source": [
        "PRECIOS, RUTA = Precios(TARIFAS)\n",
        "Precios(TARIFAS)"
      ],
      "metadata": {
        "colab": {
          "base_uri": "https://localhost:8080/"
        },
        "id": "jFelesDqOgze",
        "outputId": "bfa1493f-8e67-49be-fb0b-1197cc4a9384"
      },
      "execution_count": 4,
      "outputs": [
        {
          "output_type": "execute_result",
          "data": {
            "text/plain": [
              "([[9999, 5, 4, 3, 8, 8, 11],\n",
              "  [9999, 9999, 999, 2, 3, 8, 7],\n",
              "  [9999, 9999, 9999, 1, 6, 4, 7],\n",
              "  [9999, 9999, 9999, 9999, 5, 6, 9],\n",
              "  [9999, 9999, 9999, 9999, 9999, 999, 4],\n",
              "  [9999, 9999, 9999, 9999, 9999, 9999, 3],\n",
              "  [9999, 9999, 9999, 9999, 9999, 9999, 9999]],\n",
              " [['', 0, 0, 0, 1, 2, 5],\n",
              "  ['', '', 1, 1, 1, 3, 4],\n",
              "  ['', '', '', 2, 3, 2, 5],\n",
              "  ['', '', '', '', 3, 3, 3],\n",
              "  ['', '', '', '', '', 4, 4],\n",
              "  ['', '', '', '', '', '', 5],\n",
              "  ['', '', '', '', '', '', '']])"
            ]
          },
          "metadata": {},
          "execution_count": 4
        }
      ]
    },
    {
      "cell_type": "code",
      "source": [
        "\n",
        "#Calculo de la ruta usando la matriz RUTA\n",
        "def calcular_ruta(RUTA, desde, hasta):\n",
        "  if desde == RUTA[desde][hasta]:\n",
        "  #if desde == hasta:\n",
        "    #print(\"Ir a :\" + str(desde))\n",
        "    return desde \n",
        "  else:\n",
        "    return str(calcular_ruta(RUTA, desde, RUTA[desde][hasta])) +  ',' + str(RUTA[desde][hasta]) \n",
        "\n",
        "print(\"\\nLa ruta es:\")  \n",
        "calcular_ruta(RUTA, 0,6) "
      ],
      "metadata": {
        "id": "JznvBLkjOlq2",
        "colab": {
          "base_uri": "https://localhost:8080/",
          "height": 71
        },
        "outputId": "e0c04fb7-5b24-448d-e7bf-bf077a9f26ac"
      },
      "execution_count": 5,
      "outputs": [
        {
          "output_type": "stream",
          "name": "stdout",
          "text": [
            "\n",
            "La ruta es:\n"
          ]
        },
        {
          "output_type": "execute_result",
          "data": {
            "text/plain": [
              "'0,2,5'"
            ],
            "application/vnd.google.colaboratory.intrinsic+json": {
              "type": "string"
            }
          },
          "metadata": {},
          "execution_count": 5
        }
      ]
    },
    {
      "cell_type": "markdown",
      "source": [
        "### PROBLEMA DE ASIGNACIÓN DE TAREAS- RAMIFICACIÓN Y PODA "
      ],
      "metadata": {
        "id": "SoHWE0QPn7JZ"
      }
    },
    {
      "cell_type": "code",
      "source": [
        "#    T A R E A \n",
        "#   A\n",
        "#   G\n",
        "#   E\n",
        "#   N\n",
        "#   T\n",
        "#   E\n",
        "\n",
        "COSTES=[[11,12,18,40],\n",
        "        [14,15,13,22],\n",
        "        [11,17,19,23],\n",
        "        [17,14,20,28]]\n",
        "        "
      ],
      "metadata": {
        "id": "ASJDc4YZfe-j"
      },
      "execution_count": 6,
      "outputs": []
    },
    {
      "cell_type": "code",
      "source": [
        "#Calculo del valor de una solucion parcial\n",
        "def valor(S,COSTES):\n",
        "  VALOR = 0\n",
        "  for i in range(len(S)):\n",
        "    VALOR += COSTES[S[i]][i] \n",
        "  return VALOR\n",
        "\n",
        "\n",
        "\n",
        "valor((1, 2, 0, 3),COSTES)"
      ],
      "metadata": {
        "colab": {
          "base_uri": "https://localhost:8080/"
        },
        "id": "qxgMK-_roWaz",
        "outputId": "8fcdde67-029a-4395-9073-0c8b93e5dba7"
      },
      "execution_count": 7,
      "outputs": [
        {
          "output_type": "execute_result",
          "data": {
            "text/plain": [
              "77"
            ]
          },
          "metadata": {},
          "execution_count": 7
        }
      ]
    },
    {
      "cell_type": "code",
      "source": [
        "#Coste inferior para soluciones parciales\n",
        "#  (1,3,) Se asigna la tarea 1 al agente 0 y la tarea 3 al agente 1\n",
        "\n",
        "def CI(S,COSTES):\n",
        "  VALOR = 0\n",
        "  #Valores establecidos\n",
        "  for i in range(len(S)):\n",
        "    VALOR += COSTES[i][S[i]]\n",
        "\n",
        "  #Estimacion\n",
        "  for i in range( len(S), len(COSTES)   ):\n",
        "    VALOR += min( [ COSTES[j][i] for j in range(len(S), len(COSTES))  ])\n",
        "  return VALOR\n",
        "\n",
        "def CS(S,COSTES):\n",
        "  VALOR = 0\n",
        "  #Valores establecidos\n",
        "  for i in range(len(S)):\n",
        "    VALOR += COSTES[i][S[i]]\n",
        "\n",
        "  #Estimacion\n",
        "  for i in range( len(S), len(COSTES)   ):\n",
        "    VALOR += max( [ COSTES[j][i] for j in range(len(S), len(COSTES))  ])\n",
        "  return VALOR\n",
        "\n",
        "CS((0,1),COSTES)"
      ],
      "metadata": {
        "colab": {
          "base_uri": "https://localhost:8080/"
        },
        "id": "SATiY6K5sm3S",
        "outputId": "1f7231f8-35f9-4a0f-aaa1-8b0f088d3ef3"
      },
      "execution_count": 8,
      "outputs": [
        {
          "output_type": "execute_result",
          "data": {
            "text/plain": [
              "74"
            ]
          },
          "metadata": {},
          "execution_count": 8
        }
      ]
    },
    {
      "cell_type": "code",
      "source": [
        "#Genera tantos hijos como como posibilidades haya para la siguiente elemento de la tupla\n",
        "#(0,) -> (0,1), (0,2), (0,3)\n",
        "def crear_hijos(NODO, N):\n",
        "  HIJOS = []\n",
        "  for i in range(N ):\n",
        "    if i not in NODO:\n",
        "      HIJOS.append({'s':NODO +(i,)    })\n",
        "  return HIJOS\n",
        "crear_hijos((0,) , 4)"
      ],
      "metadata": {
        "colab": {
          "base_uri": "https://localhost:8080/"
        },
        "id": "HO8IEXNeFpMb",
        "outputId": "9ff5ead9-4a8f-4bb9-ac47-38c3ecccf7c0"
      },
      "execution_count": 9,
      "outputs": [
        {
          "output_type": "execute_result",
          "data": {
            "text/plain": [
              "[{'s': (0, 1)}, {'s': (0, 2)}, {'s': (0, 3)}]"
            ]
          },
          "metadata": {},
          "execution_count": 9
        }
      ]
    },
    {
      "cell_type": "code",
      "source": [
        "\n",
        "def ramificacion_y_poda(COSTES):\n",
        "#Construccion iterativa de soluciones(arbol). En cada etapa asignamos un agente(ramas).\n",
        "#Nodos del grafo  { s:(1,2),CI:3,CS:5  }\n",
        "  #print(COSTES)\n",
        "  DIMENSION = len(COSTES)  \n",
        "  MEJOR_SOLUCION=tuple( i for i in range(len(COSTES)) )\n",
        "  CotaSup = valor(MEJOR_SOLUCION,COSTES)\n",
        "  #print(\"Cota Superior:\", CotaSup)\n",
        "\n",
        "  NODOS=[]\n",
        "  NODOS.append({'s':(), 'ci':CI((),COSTES)    } )\n",
        "\n",
        "  iteracion = 0\n",
        "\n",
        "  while( len(NODOS) > 0):\n",
        "    iteracion +=1\n",
        "\n",
        "    nodo_prometedor = [ min(NODOS, key=lambda x:x['ci']) ][0]['s']\n",
        "    #print(\"Nodo prometedor:\", nodo_prometedor)\n",
        "\n",
        "    #Ramificacion\n",
        "    #Se generan los hijos\n",
        "    HIJOS =[ {'s':x['s'], 'ci':CI(x['s'], COSTES)   } for x in crear_hijos(nodo_prometedor, DIMENSION) ]\n",
        "\n",
        "    #Revisamos la cota superior y nos quedamos con la mejor solucion si llegamos a una solucion final\n",
        "    NODO_FINAL = [x for x in HIJOS if len(x['s']) == DIMENSION  ]\n",
        "    if len(NODO_FINAL ) >0: \n",
        "      #print(\"\\n********Soluciones:\",  [x for x in HIJOS if len(x['s']) == DIMENSION  ] )\n",
        "      if NODO_FINAL[0]['ci'] < CotaSup:\n",
        "        CotaSup = NODO_FINAL[0]['ci']\n",
        "        MEJOR_SOLUCION = NODO_FINAL\n",
        " \n",
        "    #Poda\n",
        "    HIJOS = [x for x in HIJOS if x['ci'] < CotaSup   ]\n",
        "\n",
        "    #Añadimos los hijos \n",
        "    NODOS.extend(HIJOS) \n",
        "\n",
        "    #Eliminamos el nodo ramificado\n",
        "    NODOS =  [  x for x in NODOS if x['s'] != nodo_prometedor    ]\n",
        "   \n",
        "  print(\"La solucion final es:\" ,MEJOR_SOLUCION , \" en \" , iteracion , \" iteraciones\" , \" para dimension: \" ,DIMENSION  )\n",
        "      \n",
        "\n",
        "\n",
        "ramificacion_y_poda(COSTES)"
      ],
      "metadata": {
        "colab": {
          "base_uri": "https://localhost:8080/"
        },
        "id": "CIbUVJSXHy-w",
        "outputId": "e791f46d-e447-49a9-a748-51a7130ab615"
      },
      "execution_count": 10,
      "outputs": [
        {
          "output_type": "stream",
          "name": "stdout",
          "text": [
            "La solucion final es: [{'s': (1, 2, 0, 3), 'ci': 64}]  en  10  iteraciones  para dimension:  4\n"
          ]
        }
      ]
    },
    {
      "cell_type": "markdown",
      "source": [
        "ACTIVIDAD EXTRA: \n",
        "- Algoritmo fuerza bruta\n",
        "- Nº de dimensión que acepta fuerza bruta\n",
        "- Nº de dimensión que acepta el algoritmo con la técnica divide y venceras"
      ],
      "metadata": {
        "id": "qWF3IkuGpd23"
      }
    },
    {
      "cell_type": "code",
      "source": [
        "# Fuerza bruta\n",
        "#    T A R E A \n",
        "#   A\n",
        "#   G\n",
        "#   E\n",
        "#   N\n",
        "#   T\n",
        "#   E\n",
        "\n",
        "COSTES=[[11,12,18,40],\n",
        "        [14,15,13,22],\n",
        "        [11,17,19,23],\n",
        "        [17,14,20,28]]"
      ],
      "metadata": {
        "id": "qm7YGY-wISFi"
      },
      "execution_count": 11,
      "outputs": []
    },
    {
      "cell_type": "code",
      "source": [
        " # Queremos un algoritmo que dado los costes anteriores y calcule la mejor solución para organizar a los agentes\n",
        "import itertools\n",
        "import numpy as np \n",
        "def fuerzaBruta(costes): \n",
        "   per = itertools.permutations([x for x in range(len(costes))])\n",
        "   valor_min = 99999\n",
        "   sol = (0,1,2,3)\n",
        "   for i in list(per):\n",
        "     new_sol = i\n",
        "     new_valor = valor(new_sol, costes)\n",
        "     if new_valor < valor_min:\n",
        "       sol = new_sol\n",
        "       valor_min = new_valor\n",
        "                                \n",
        "   return sol,valor_min\n"
      ],
      "metadata": {
        "id": "kOc2EzxHqpoy"
      },
      "execution_count": 12,
      "outputs": []
    },
    {
      "cell_type": "code",
      "source": [
        "fuerzaBruta(COSTES)"
      ],
      "metadata": {
        "colab": {
          "base_uri": "https://localhost:8080/"
        },
        "id": "NCYmtXb3GNSe",
        "outputId": "3647d697-6ee5-49ec-c678-1c801ef0af66"
      },
      "execution_count": 13,
      "outputs": [
        {
          "output_type": "execute_result",
          "data": {
            "text/plain": [
              "((0, 3, 1, 2), 61)"
            ]
          },
          "metadata": {},
          "execution_count": 13
        }
      ]
    },
    {
      "cell_type": "markdown",
      "source": [
        "Una vez implementados tanto el algoritmo mediante fuerza bruta y mediante poda y ramificación, veamos cada algoritmo hasta que dimensión admite."
      ],
      "metadata": {
        "id": "h1sj191muTmD"
      }
    },
    {
      "cell_type": "code",
      "source": [
        "import random\n",
        "costes_dim7 = list(np.random.randint(0,1000, (7,7)))\n",
        "costes_dim8 = list(np.random.randint(0,1000, (8,8)))\n",
        "costes_dim9 = list(np.random.randint(0,1000, (9,9)))"
      ],
      "metadata": {
        "id": "EI3ulbPMGciX"
      },
      "execution_count": 14,
      "outputs": []
    },
    {
      "cell_type": "code",
      "source": [
        "print(fuerzaBruta(costes_dim7))\n",
        "print(fuerzaBruta(costes_dim8))\n",
        "print(fuerzaBruta(costes_dim9))"
      ],
      "metadata": {
        "id": "cf0U-CwpHTFN",
        "colab": {
          "base_uri": "https://localhost:8080/"
        },
        "outputId": "ce468078-750c-48e3-b6cc-e96589c7b82c"
      },
      "execution_count": 15,
      "outputs": [
        {
          "output_type": "stream",
          "name": "stdout",
          "text": [
            "((4, 3, 2, 0, 1, 5, 6), 1072)\n",
            "((4, 2, 3, 6, 5, 7, 1, 0), 1055)\n",
            "((5, 1, 3, 7, 6, 4, 2, 0, 8), 958)\n"
          ]
        }
      ]
    },
    {
      "cell_type": "markdown",
      "source": [
        "El algoritmo de fuerza bruta se puede ejecutar en un tiempo razonable hasta la dimensión 9, a partir de ahí al tener tantas posibilidades en las soluciones (permutación de n = n!) el algoritmo tarda en ejecutarse."
      ],
      "metadata": {
        "id": "vfYJesjOyaT-"
      }
    },
    {
      "cell_type": "code",
      "source": [
        "costes_dim10 = list(np.random.randint(0,1000, (10,10)))\n",
        "costes_dim11 = list(np.random.randint(0,1000, (11,11)))\n",
        "costes_dim12 = list(np.random.randint(0,1000, (12,12)))\n",
        "costes_dim13 = list(np.random.randint(0,1000, (13,13)))"
      ],
      "metadata": {
        "id": "0UZeZtp7vsIT"
      },
      "execution_count": 16,
      "outputs": []
    },
    {
      "cell_type": "code",
      "source": [
        "print(ramificacion_y_poda(costes_dim10))\n",
        "# print(ramificacion_y_poda(costes_dim11))"
      ],
      "metadata": {
        "id": "cJMFzH-_vv4s",
        "colab": {
          "base_uri": "https://localhost:8080/"
        },
        "outputId": "3ece621f-a189-48dc-d1a0-8bcf234a958a"
      },
      "execution_count": 19,
      "outputs": [
        {
          "output_type": "stream",
          "name": "stdout",
          "text": [
            "La solucion final es: [{'s': (1, 8, 3, 0, 9, 7, 4, 6, 5, 2), 'ci': 1512}]  en  4105  iteraciones  para dimension:  10\n",
            "None\n"
          ]
        }
      ]
    },
    {
      "cell_type": "markdown",
      "source": [
        "En el algoritmo por ramificación y poda también funciona para dimension 10, pero a partir de esta dimensión el tiempo de ejecución se dispara. "
      ],
      "metadata": {
        "id": "_60wImwIlfmt"
      }
    },
    {
      "cell_type": "code",
      "source": [],
      "metadata": {
        "id": "n70sgMSklTvk"
      },
      "execution_count": null,
      "outputs": []
    }
  ]
}