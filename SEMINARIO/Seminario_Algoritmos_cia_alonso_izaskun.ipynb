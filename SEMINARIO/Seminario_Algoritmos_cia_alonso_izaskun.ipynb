{
  "nbformat": 4,
  "nbformat_minor": 0,
  "metadata": {
    "colab": {
      "provenance": []
    },
    "kernelspec": {
      "name": "python3",
      "display_name": "Python 3"
    }
  },
  "cells": [
    {
      "cell_type": "markdown",
      "metadata": {
        "id": "hVbXYX-RfPWh"
      },
      "source": [
        "# Algoritmos de optimización - Trabajo práctico<br>\n",
        "Nombre y Apellidos: Izaskun Cia Alonso   <br>\n",
        "Url: https://github.com/izascia/03MIAR---Algoritmos-de-Optimizacion/tree/main/SEMINARIO<br>\n",
        "Cuaderno: https://colab.research.google.com/drive/19gmRVoLKCgngp4wS6EqsveqgCg-N0DFt?usp=sharing\n",
        "<Br>\n",
        "Problema:\n",
        "> 1. Sesiones de doblaje <br>\n",
        ">2. $\\textbf{Organizar los horarios de partidos de La Liga}$<br>\n",
        ">3. Combinar cifras y operaciones\n",
        "\n",
        "Descripción del problema:<Br>\n",
        "Desde La Liga de fútbol profesional se pretende organizar los horarios de los partidos de liga de cada jornada. Se conocen algunos datos que nos deben llevar a diseñar un algoritmo que realice la asignación de los partidos a los horaios de forma que maximice la audiencia. Entre esos datos están:\n",
        "- Los horarios disponibles y el porcentaje de audiencia en cada uno de ellos.\n",
        "- La categoría (A, B o C) que tienen cada equipo y la audiencia inicial (sin aplicar restricciones) que tiene cada partido según la categoría de los equipos. \n",
        "- La penalización que sufre la audiencia de los partidos si hay coincidencias de horario. \n",
        "\n",
        "\n",
        "\n",
        "\n",
        "                                        "
      ]
    },
    {
      "cell_type": "markdown",
      "metadata": {
        "id": "3_-exlrTgLd-"
      },
      "source": [
        "(*)¿Cuantas posibilidades hay sin tener en cuenta las restricciones?<br>\n",
        "\n",
        "\n",
        "\n",
        "¿Cuantas posibilidades hay teniendo en cuenta todas las restricciones.\n",
        "\n",
        "\n"
      ]
    },
    {
      "cell_type": "markdown",
      "metadata": {
        "id": "WfCUqJyKhPcw"
      },
      "source": [
        "Respuesta:<Br> Analizamos el número de operaciones que tiene el problema primero sin tener en cuenta las restricciones y después aplicando dichas restricciones. \n",
        "- SIN RESTRICCIONES: Tenemos 10 posibles horarios y queremos organizar 10 partidos. Notar que en este caso como no estamos aplicando ninguna restricción, en cada horario puede haber cualquier número de partidos desde ninguno (0) hasta todos (10). Por lo tanto, estamos ante un problema combinatorio de variación con repetición donde el k = n = 10. Así el número total de posibles soluciones es $10^{10}= 10$ mil millones.\n",
        "- CON RESTRICCIONES: En este problema tenemos una única restricción que es que tanto en los horarios del viernes a las 20 y del lunes a las 20 tiene que haber por lo menos un partido. Luego por un lado, debemos elegir dos partidos de los 10 para ponerlos en los horarios del lunes y del viernes. Es decir, cogemos dos partidos de 10 teniendo en cuenta que no se pueden repetir y que el orden importa: Variación sin repetición $\\frac{10!}{(10-2)!} = 90$. Una vez establecidos estos dos partidos falta organizar los 8 restantes. Ahora tenemos 8 partidos y los tenemos que repartir en 10 horarios, es decir, $10^8$. Luego en total tenemos $90 \\cdot 10 *8$ posibles soluciones."
      ]
    },
    {
      "cell_type": "markdown",
      "metadata": {
        "id": "dzynfVJahHoY"
      },
      "source": [
        "Modelo para el espacio de soluciones<br>\n",
        "(*) ¿Cual es la estructura de datos que mejor se adapta al problema? Argumentalo.(Es posible que hayas elegido una al principio y veas la necesidad de cambiar, arguentalo)\n"
      ]
    },
    {
      "cell_type": "markdown",
      "metadata": {
        "id": "xFIJrOwKi2Ti"
      },
      "source": [
        "Respuesta:\n",
        "La estructura de datos elegida es un vector de longitud 10 representado de la siguiente forma: <Br> $\\textbf{X}= [x_1, x_2, ..., x_{10}]$ donde $x_{i}$ representa el horario en el que se juega el partido $i$. "
      ]
    },
    {
      "cell_type": "markdown",
      "metadata": {
        "id": "7Z9U2W7bi-XS"
      },
      "source": [
        "Según el modelo para el espacio de soluciones<br>\n",
        "(*)¿Cual es la función objetivo?\n",
        "\n",
        "(*)¿Es un problema de maximización o minimización?\n"
      ]
    },
    {
      "cell_type": "markdown",
      "metadata": {
        "id": "hBalWLM7j1_d"
      },
      "source": [
        "Respuesta: <Br> Es un problema de maximización, queremos organizar los partidos de una jornada de la liga de manera que se maximice la audiencia. <Br> Para el cálculo de la función objetivo previamente definimos algunos datos: \n",
        "- $\\textbf{Categorias partidos:}$ Matriz 3x3 tal que la componente i, j nos da la audiencia sin aplicarle restricciones del partido teniendo en cuenta la categoria de cada equipo que participa en el equipo. (Categoria A = índice 0, Categoria B = índice 1, Categoria C = índice 2). \n",
        "- $\\textbf{Ponderación horarios:}$ Según el horario en el que se juega un partido tiene un porcentaje de la audiencia inicial, no es lo mismo jugar un partido un domingo a las 12 que un sábado a las 20:00. Definimos estos datos mediante una lista en la que los índices corresponden a cada horarios (ordenados en orden cronológico comenzando por el viernes) y cada elemento de la lista es el porcentaje de audiencia que corresponde a cada horario. \n",
        "- $\\textbf{Ponderación coincidencias:}$ Si en un mismo horario coinciden mas de un partido la audiencia disminuye mediante los porcentajes definidos en esta lista. Donde la componente i define el porcentaje de audiencia que se pierde al coincidir i partidos simultaneamente. \n",
        "- $\\textbf{Categorias equipos:}$ Definimos mediante un diccionario la categoría que tienen cada equipo.\n",
        "\n",
        "También definimos una función $\\textit{es_valida(SOLUCION)}$ que nos devuelva True si una solución es válida, es decir, si tanto el viernes como el lunes hay por lo menos un partido. <Br> Finalmente, creamos la función $\\textit{get_categoria(input)}$ que dada la lista de partidos de la jornada nos devuelva los valores iniciales de audiencia según la categoría de cada equipo."
      ]
    },
    {
      "cell_type": "code",
      "metadata": {
        "id": "pDA-rg3Gj5Lz"
      },
      "source": [
        "# categorias partidos\n",
        "categorias_partidos = [[2, 1.3, 1], [1.3, 0.9, 0.75], [1, 0.75, 0.47]]\n",
        "\n",
        "# ponderación horarios \n",
        "horarios = [0.4, 0.55, 0.7, 0.8, 1, 0.45, 0.75, 0.85, 1, 0.4] \n",
        "\n",
        "# ponderación coincidencias \n",
        "coincidencias = [0, 0.25, 0.45, 0.60, 0.7, 0.75, 0.78, 0.8, 0.8]\n",
        "\n",
        "# categorias equipos\n",
        "categorias_equipos = {'RealMadrid':0, 'RealSociedad': 0, 'Barcelona':0, 'Celta':1, 'Valencia':1, 'Athletic':1, 'Villarreal':1, 'Alaves':1, 'Levante':1, 'Espanyol':1, 'Sevilla':1, 'Betis':1, 'Atletico':1, 'Getafe':1, 'Osasuna':2, 'Mallorca':2, 'Eibar':2, 'Leganes':2, 'Granada':2, 'Valladolid':2}\n",
        "\n",
        "\n",
        "def es_valida(SOLUCION):\n",
        "  \"Comprueba si la solución es válida\"\n",
        "  if 0 in SOLUCION and 9 in SOLUCION:\n",
        "    return True\n",
        "  return False\n",
        "  \n",
        "def get_categorias(input):\n",
        "  \"Dada una lista de partidos devuelve una lista con las audiencias iniciales según la categoría de los partidos\"\n",
        "  categorias = []\n",
        "  for partido in input:\n",
        "    categorias.append(categorias_partidos[categorias_equipos[partido[0]]][categorias_equipos[partido[1]]])\n",
        "  return categorias"
      ],
      "execution_count": 12,
      "outputs": []
    },
    {
      "cell_type": "code",
      "source": [
        "# Definimos la función objetivo como la suma de las audiencias de cada partido una vez reajustandolas con las restricciones de los horarios y el número de partidos coincidentes.\n",
        "def valor_audiencia(SOLUCION,input):\n",
        "  valor = 0\n",
        "  audiencias_iniciales = get_categorias(input)\n",
        "  if es_valida(SOLUCION): \n",
        "    for i in range(len(SOLUCION)):\n",
        "      # audiencia inicial * ponderación según el horario\n",
        "      audiencia_in = audiencias_iniciales[i]\n",
        "      ponderacion_hor = horarios[SOLUCION[i]]\n",
        "\n",
        "      # comprobamos las coincidencias y aplicamos la restricción sobre la audiencia\n",
        "    \n",
        "      coincidencia = coincidencias[SOLUCION.count(SOLUCION[i])-1]\n",
        "      valor += audiencia_in*ponderacion_hor*(1-coincidencia)\n",
        "  return valor "
      ],
      "metadata": {
        "id": "Rrkkb67p3DfF"
      },
      "execution_count": 13,
      "outputs": []
    },
    {
      "cell_type": "markdown",
      "metadata": {
        "id": "rlnTYgY1j6I2"
      },
      "source": [
        "Diseña un algoritmo para resolver el problema por fuerza bruta"
      ]
    },
    {
      "cell_type": "markdown",
      "metadata": {
        "id": "70rDgxYXkC8r"
      },
      "source": [
        "Respuesta:<Br>\n",
        "En la siguiente celda tenemos el algoritmo por fuerza bruta. Debido al alto coste computacional que tiene no es posible ejecutarlo. "
      ]
    },
    {
      "cell_type": "code",
      "metadata": {
        "id": "CJb5sQ0qkENy"
      },
      "source": [
        "input = [['Celta','RealMadrid'], ['Valencia','RealSociedad'], ['Mallorca','Eibar'],['Athletic', 'Barcelona'], ['Leganes','Osasuna'],\n",
        "         ['Villarreal','Granada'], ['Alaves', 'Levante'], ['Espanyol', 'Sevilla'], ['Betis', 'Valladolid'], ['Atletico', 'Getafe']]\n",
        "\n",
        "\n",
        "\n",
        "# import itertools\n",
        "# a = itertools.product(np.arange(10), repeat = 10)\n",
        "# valor_obj = 0\n",
        "# solucion = [0]*10\n",
        "# for i in range(10**10):\n",
        "#   new_sol = next(a)\n",
        "#   # print(new_sol)\n",
        "#   new_valor = valor_audiencia(new_sol,input)\n",
        "#   if new_valor > valor_obj:\n",
        "#     solucion = new_sol\n",
        "#     valor_obj = new_valor\n",
        "# print(solucion)"
      ],
      "execution_count": 14,
      "outputs": []
    },
    {
      "cell_type": "markdown",
      "metadata": {
        "id": "tgrnsC2nkFa8"
      },
      "source": [
        "Calcula la complejidad del algoritmo por fuerza bruta"
      ]
    },
    {
      "cell_type": "markdown",
      "metadata": {
        "id": "9eUd3xwckP68"
      },
      "source": [
        "Respuesta: <Br>\n",
        "Para calcular la complejidad del algoritmo por fuerza bruta previamente calculamos el número de operaciones elementales que es necesario ejecutar. \n",
        "- Al inicio del algoritmo tenemos 3 asignaciones --> 3 OE\n",
        "- Tenemos un bucle de magnitud $n^n$ en el que hay 5 operaciones elementales --> $5 \\cdot n^n$ OE\n",
        "- Finalmente visualizamos la solución final --> 1 OE\n",
        "<Br> Luego tenemos  $5 \\cdot n^n + $  operaciones en total, es decir, la complejidad del algoritmo es de orden $o(n^n)$"
      ]
    },
    {
      "cell_type": "markdown",
      "metadata": {
        "id": "txbrmLmskReM"
      },
      "source": [
        "(*)Diseña un algoritmo que mejore la complejidad del algortimo por fuerza bruta. Argumenta porque crees que mejora el algoritmo por fuerza bruta"
      ]
    },
    {
      "cell_type": "markdown",
      "metadata": {
        "id": "hLrVwt5QkZPD"
      },
      "source": [
        "Respuesta: <Br> Utilizamos un algoritmo heurístico basado en recorrido, RECOCIDO SIMULADO. Este algoritmo mejora el de fuerza bruta puesto que al ser una técnica metaheurística aplica un componente probabilistico. Gracias a esto no tiene la necesidad de comprobar una a una todas las posibles soluciones. Por otro lado, esto tiene su desventaja y es que no podemos saber si la solución obtenida es la óptima o como de cerca está de serlo. "
      ]
    },
    {
      "cell_type": "code",
      "metadata": {
        "id": "m1eyM21Vkabg"
      },
      "source": [
        "\n",
        "import random \n",
        "\n",
        "def genera_vecina_aleatorio(solucion):\n",
        "  \"Genera una solución cambiando el valor de dos elementos de la solución, si la nueva solución no es válida la modifica para que lo sea.\"\n",
        "\n",
        "  i,j = sorted(random.sample( range(0,len(solucion)) , 2))\n",
        "\n",
        "  solucion[i] = j \n",
        "  solucion[j] = i\n",
        "  \n",
        "  if 0 not in solucion:\n",
        "    solucion[random.randint(0,4)] = 0\n",
        "  \n",
        "  if 9 not in solucion:\n",
        "    solucion[random.randint(5,9)] = 9\n",
        "  return solucion"
      ],
      "execution_count": 15,
      "outputs": []
    },
    {
      "cell_type": "code",
      "source": [
        "import math\n",
        "#Funcion de probabilidad para aceptar peores soluciones\n",
        "def probabilidad(T,d):\n",
        "  if random.random() <  math.exp( -1*d / T)  :\n",
        "    return True\n",
        "  else:\n",
        "    return False\n",
        "\n",
        "#Funcion de descenso de temperatura\n",
        "def bajar_temperatura(T):\n",
        "  return T*0.99"
      ],
      "metadata": {
        "id": "PRv4BXQr32Oe"
      },
      "execution_count": 16,
      "outputs": []
    },
    {
      "cell_type": "code",
      "source": [
        "def recocido_simulado(TEMPERATURA,input):\n",
        "  # creamos solución inicial \n",
        "  solucion_referencia = [random.randint(0,9) for x in range(10)]\n",
        "  print(input)\n",
        "  distancia_referencia = valor_audiencia(solucion_referencia,input)\n",
        "  print(distancia_referencia, 'audiencia inicial')\n",
        "  mejor_solucion = []\n",
        "  mejor_distancia = 0\n",
        "  \n",
        "  \n",
        "  N=0\n",
        "  while TEMPERATURA > .0001:\n",
        "    N+=1\n",
        "    #Genera una solución vecina\n",
        "    vecina =genera_vecina_aleatorio(solucion_referencia)\n",
        "    \n",
        "    #Calcula su valor(distancia)\n",
        "    distancia_vecina = valor_audiencia(vecina,input)\n",
        "      \n",
        "    #Si es la mejor solución de todas se guarda(siempre!!!)\n",
        "    if distancia_vecina > mejor_distancia:\n",
        "        mejor_solucion = vecina\n",
        "        mejor_distancia = distancia_vecina\n",
        "    \n",
        "    #Nos quedamos con la mejor solución entre la actual y la vecina\n",
        "    if distancia_vecina > distancia_referencia or probabilidad(TEMPERATURA, abs(distancia_referencia - distancia_vecina) ) :\n",
        "      \n",
        "      solucion_referencia = vecina\n",
        "      distancia_referencia = distancia_vecina\n",
        "\n",
        "    # Actualizamos la temperatura\n",
        "    TEMPERATURA = bajar_temperatura(TEMPERATURA)\n",
        " \n",
        "  print(\"La mejor solución encontrada es \" , end=\"\")\n",
        "  print(mejor_solucion)\n",
        "  print(\"Con una audiencia de \" , end=\"\")\n",
        "  print(mejor_distancia)\n",
        "  return mejor_solucion\n",
        "\n",
        "sol  = recocido_simulado(100,input)"
      ],
      "metadata": {
        "colab": {
          "base_uri": "https://localhost:8080/",
          "height": 0
        },
        "id": "6xmVLaUo34CE",
        "outputId": "38691823-701f-4473-bd44-641d7e91c14f"
      },
      "execution_count": 19,
      "outputs": [
        {
          "output_type": "stream",
          "name": "stdout",
          "text": [
            "[['Celta', 'RealMadrid'], ['Valencia', 'RealSociedad'], ['Mallorca', 'Eibar'], ['Athletic', 'Barcelona'], ['Leganes', 'Osasuna'], ['Villarreal', 'Granada'], ['Alaves', 'Levante'], ['Espanyol', 'Sevilla'], ['Betis', 'Valladolid'], ['Atletico', 'Getafe']]\n",
            "5.564625 audiencia inicial\n",
            "La mejor solución encontrada es [4, 8, 0, 4, 0, 4, 9, 8, 7, 6]\n",
            "Con una audiencia de 6.5535000000000005\n"
          ]
        }
      ]
    },
    {
      "cell_type": "markdown",
      "metadata": {
        "id": "eGDB4K6uk1iN"
      },
      "source": [
        "(*)Calcula la complejidad del algoritmo "
      ]
    },
    {
      "cell_type": "markdown",
      "metadata": {
        "id": "NhpTh_BPk1ms"
      },
      "source": [
        "Respuesta: <Br> \n",
        "En este caso el algoritmo depende tanto del tamaño de la entrada (número de partidos, n) como del parámetro T. <Br> Para calcular su coste computacional priviamente vamos a ver el coste de cada una de las funciones previamente definidas:\n",
        "- $\\textit{es_valida(SOLUCION)}$: Itera sobre la solución para comprobar si la solución cumple la restricción o no. $O(n)$.\n",
        "- $\\textit{valor_solucion(SOLUCION, input)}$: Comprueba que si la solución es valida y en caso de ser tiene otro bucle que recorre la solucion. Luego $O(n^2)$.\n",
        "- $\\textit{genera_vecina_aleatoria(solucion)}$: Como recorre la solución una vez. $O(n)$.\n",
        "- $\\textit{probabilidad}$ y $\\textit{bajar_temperatura)}$: Coste constante\n",
        "\n",
        "Teniendo en cuenta estos costes veamos ahora cuál es el coste de la función principal y por lo tanto del algoritmo. \n",
        "- En la primera parte al crear la solución inicial tenemos un coste lineal.\n",
        "-Dentro del bucle while tenemos coste cuadrático. \n",
        "Por lo tanto dentro del bucle while: $O(n^2)$.\n",
        "\n",
        "Finalmente, veamos dado un valor inicial de temperatura T cuantas veces se ejecuta el bucle while. <Br> La temperatura disminuye mediante la siguiente función: $T=0.99T$. <Br> Queremos saber en que iteración se cumple T < 0.0001. <Br> Notar que $T_k = 0.99 \\cdot T_{k-1} = 0.99 \\cdot 0.99 \\cdot T_{k-2} = \\cdots = (0.99)^k \\cdot T_{0} < 0.0001$ <Br> Resolviendo está inecuación (para ello aplicando logaritmos a ambas partes de ella obtenemos la siguiente solución: $ k > 1000 + \\frac{4}{1000} log(T)$. Así deducimos que el bucle tiene coste logaritmico en T y por lo tanto el coste del algoritmo es $O(n^2 \\cdot log(T))$·\n"
      ]
    },
    {
      "cell_type": "code",
      "metadata": {
        "id": "nREzhkStlCq8"
      },
      "source": [
        "\n"
      ],
      "execution_count": 19,
      "outputs": []
    },
    {
      "cell_type": "markdown",
      "metadata": {
        "id": "3M6QjTsSkmYe"
      },
      "source": [
        "Según el problema (y tenga sentido), diseña un juego de datos de entrada aleatorios"
      ]
    },
    {
      "cell_type": "markdown",
      "metadata": {
        "id": "Jc3_OlyNkvjZ"
      },
      "source": [
        "Respuesta:\n",
        "\n",
        "Creamos una función que dados 20 equipos genera una jornada de futbol creando 10 equipos juntando dos a dos estos equipos."
      ]
    },
    {
      "cell_type": "code",
      "metadata": {
        "id": "sJ-N2etjkyWc"
      },
      "source": [
        "import random \n",
        "EQUIPOS = ['Celta', 'RealMadrid','Valencia','RealSociedad','Mallorca','Eibar','Athletic', 'Barcelona',\n",
        "           'Leganes','Osasuna','Villarreal','Granada','Alaves', 'Levante','Espanyol', 'Sevilla','Betis', 'Valladolid','Atletico', 'Getafe']\n",
        "def generate_input():\n",
        "  equipos = EQUIPOS.copy()\n",
        "  input = []\n",
        "  for i in range(len(EQUIPOS)//2):\n",
        "    a = random.choice(equipos)\n",
        "    equipos.remove(a)\n",
        "    b = random.choice(equipos)\n",
        "    equipos.remove(b)\n",
        "    input.append([a,b])\n",
        "  return input \n"
      ],
      "execution_count": 20,
      "outputs": []
    },
    {
      "cell_type": "code",
      "source": [
        "a = generate_input()\n",
        "print(a)"
      ],
      "metadata": {
        "id": "SkHshCe2gZed",
        "colab": {
          "base_uri": "https://localhost:8080/",
          "height": 0
        },
        "outputId": "c7320ed8-b24f-417c-edbb-1194d7fbd7c5"
      },
      "execution_count": 21,
      "outputs": [
        {
          "output_type": "stream",
          "name": "stdout",
          "text": [
            "[['Athletic', 'Getafe'], ['Espanyol', 'Betis'], ['RealMadrid', 'Valladolid'], ['Celta', 'Granada'], ['Alaves', 'Sevilla'], ['Barcelona', 'Valencia'], ['Levante', 'RealSociedad'], ['Osasuna', 'Atletico'], ['Mallorca', 'Villarreal'], ['Eibar', 'Leganes']]\n"
          ]
        }
      ]
    },
    {
      "cell_type": "markdown",
      "metadata": {
        "id": "zy5ZROmjlGo1"
      },
      "source": [
        "Aplica el algoritmo al juego de datos generado"
      ]
    },
    {
      "cell_type": "markdown",
      "metadata": {
        "id": "_Cmj-PVylMsa"
      },
      "source": [
        "Respuesta"
      ]
    },
    {
      "cell_type": "code",
      "metadata": {
        "id": "Jkx8GeiYlUz1",
        "colab": {
          "base_uri": "https://localhost:8080/",
          "height": 0
        },
        "outputId": "49aa71ca-be49-40c5-f1ea-89a9cc1e2359"
      },
      "source": [
        "sol  = recocido_simulado(100000,a)"
      ],
      "execution_count": 22,
      "outputs": [
        {
          "output_type": "stream",
          "name": "stdout",
          "text": [
            "[['Athletic', 'Getafe'], ['Espanyol', 'Betis'], ['RealMadrid', 'Valladolid'], ['Celta', 'Granada'], ['Alaves', 'Sevilla'], ['Barcelona', 'Valencia'], ['Levante', 'RealSociedad'], ['Osasuna', 'Atletico'], ['Mallorca', 'Villarreal'], ['Eibar', 'Leganes']]\n",
            "5.059125 audiencia inicial\n",
            "La mejor solución encontrada es [7, 6, 5, 0, 9, 2, 1, 9, 2, 4]\n",
            "Con una audiencia de 6.662999999999999\n"
          ]
        }
      ]
    },
    {
      "cell_type": "code",
      "source": [],
      "metadata": {
        "id": "9X754ZDN6t-_"
      },
      "execution_count": null,
      "outputs": []
    }
  ]
}