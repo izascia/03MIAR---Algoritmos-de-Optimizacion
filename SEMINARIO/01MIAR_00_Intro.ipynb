{
 "cells": [
  {
   "cell_type": "markdown",
   "metadata": {
    "slideshow": {
     "slide_type": "slide"
    }
   },
   "source": [
    "<img src=\"img/viu_logo.png\" width=\"200\">\n",
    "\n",
    "## 01MIAR - Python para Inteligencia Artificial\n",
    "### Presentación de la asignatura\n",
    "\n",
    "![logo](img/python_logo.png)\n",
    "\n",
    "*Ivan Fuertes*"
   ]
  },
  {
   "cell_type": "markdown",
   "metadata": {},
   "source": [
    "## Presentación\n",
    "\n",
    "Iván Fuertes\n",
    "HND in VideoGames Programming\n",
    "\n",
    "- email - ivan.fuertes@campusviu.es\n",
    "- discord - https://discord.gg/BkWGsBsaGK"
   ]
  },
  {
   "cell_type": "markdown",
   "metadata": {
    "slideshow": {
     "slide_type": "subslide"
    }
   },
   "source": [
    "## Objetivos\n",
    "- Diseñar e implementar programas básicos en Python\n",
    "- Conocer cómo desarrollar scripts y Jupyter Notebook\n",
    "- Saber importar y configurar módulos externos comunes en un entorno propio\n",
    "- Familiarización con modulos para análisis de datos (NumPy, pandas, matplotlib)\n",
    "- Conocer las técnicas básicas de análisis de datos\n"
   ]
  },
  {
   "cell_type": "markdown",
   "metadata": {},
   "source": [
    "## Metodología\n",
    "\n",
    "- Clase Expositiva\n",
    "- Actividad en Grupo\n",
    "- Problemas\n",
    "- Foros\n",
    "- Trabajo Autónomo"
   ]
  },
  {
   "cell_type": "markdown",
   "metadata": {},
   "source": [
    "## Sesiones\n",
    "\n",
    "### Horario 20.00 a 22.00 CEST\n",
    "\n",
    "- 24-10-22 - Tutoria Colectiva Presentación\n",
    "- 26-10-22 - VideoConferencia 00\n",
    "- 31-10-22 - VideoConferencia 01\n",
    "- 02-11-22 - VideoConferencia 02\n",
    "- 07-11-22 - VideoConferencia 03\n",
    "- 09-11-22 - VideoConferencia 04\n",
    "- 14-11-22 - VideoConferencia 05\n",
    "- 16-11-22 - VideoConferencia 06\n",
    "- 21-11-22 - VideoConferencia 07\n",
    "- 23-11-22 - VideoConferencia 08\n",
    "- 28-11-22 - VideoConferencia 09\n",
    "- 30-11-22 - VideoConfernecia 10"
   ]
  },
  {
   "cell_type": "markdown",
   "metadata": {
    "slideshow": {
     "slide_type": "slide"
    }
   },
   "source": [
    "## Recursos de la asignatura\n",
    "- En el aula virtual\n",
    " - Manual de la asignatura en el aula virtual\n",
    " - Jupyter notebooks de las clases\n",
    " - Actividades (descripción y entregas)\n",
    " \n",
    "* Google Drive - https://drive.google.com/drive/folders/1wDW8bZP6YTT9WUMJWsNd6La5-Ym1UlW_?usp=sharing\n",
    "\n",
    "* GitHub (send user) - https://github.com/vany-viu/01MIAR_O_22"
   ]
  },
  {
   "cell_type": "markdown",
   "metadata": {
    "slideshow": {
     "slide_type": "fragment"
    }
   },
   "source": [
    "- Documentación oficial \n",
    " - Python: https://docs.python.org/3/\n",
    " - NumPy: https://docs.scipy.org/doc/\n",
    " - pandas: https://pandas.pydata.org/index.html\n",
    " - matplotlib: https://matplotlib.org/"
   ]
  },
  {
   "cell_type": "markdown",
   "metadata": {},
   "source": [
    "## Actividades y Entregas\n",
    "\n",
    "### Portfolio (Evaluación Continua) - 60%\n",
    "- Actividad - Análisis y Representación de Datos en un Dataset - 30%\n",
    "- Actividad - Sobre videos - 10%\n",
    "- Actividad - Sobre paper - 10%\n",
    "- Foros - Participación en Foros Evaluables - 10%\n",
    "\n",
    "### Examen - 40%\n",
    "\n",
    "### Primera convocatoria - 12/12/22\n",
    "\n",
    "### Segunda convocatoria - 06/03/23\n",
    "- No hay foros en segunda convocatoria\n",
    "\n",
    "### Entrega de notebooks a través de las actividades del campus virtual"
   ]
  },
  {
   "cell_type": "markdown",
   "metadata": {
    "slideshow": {
     "slide_type": "slide"
    }
   },
   "source": [
    "## Foros\n",
    "### Introducción\n",
    "- Generar Ideas Nuevas y Llegar a Nuevos Conocimientos\n",
    "- Sentido Crítico y Concluir con Medidas, Soluciones o Nuevos Enfoques\n",
    "- Aportación de o Desarrollo de Temas Relacionando Inteligencia Artificial y el Uso de Herramientas de Programación, en concreto Python\n",
    "- Aportaciones de Referencias\n",
    "\n",
    "## Tema 1\n",
    "- Python / Programación en IA\n",
    " - Librerías\n",
    " - Estudios o Análisis Realizados\n",
    " - Ventajas e Inconvenientes\n",
    " - Casos de Uso\n",
    "\n",
    "## Tema 2\n",
    "- Scripts / Snippets\n",
    " - Códigos Interesantes que Puedan Ayudar al Tratamiento de Datos\n",
    " - Funcionalidades / Operaciones Pythonics\n",
    " - Casos de Uso\n",
    " \n",
    "## Tema 3\n",
    "- Visualización de Datos\n",
    " - Hablar de Tipos de Visualización\n",
    " - La Importancia del Uso de Colores, Formas, ...\n",
    " - Herramientas Más Usadas o Códigos de Interés\n",
    " - Casos de Visualización Polémicos\n",
    " \n",
    "## Evaluación\n",
    "- 10% de la Nota Final\n",
    "- Sólo se Podrá Participar en Primera Convocatoria (12/12/22)\n",
    "- Mínimo para Obtener una Nota Será de Dos Participaciones"
   ]
  },
  {
   "cell_type": "markdown",
   "metadata": {
    "slideshow": {
     "slide_type": "subslide"
    }
   },
   "source": [
    "## Instalación local\n",
    "- Recomendado: instalacion via _Anaconda_\n",
    " - Incluye módulos para el curso (__NumPy__, __pandas__, __matplotlib__, __jupyter notebook__...)\n",
    "- http://docs.anaconda.com/anaconda/install/\n",
    "- https://docs.anaconda.com/anaconda/user-guide/getting-started\n",
    "- Jupyter Notebook / Jupyter Lab\n",
    "- Ejecución del interprete\n",
    " - MacOS / Linux / Windows, en la terminal: __python__, __ipython__\n",
    "- Google Colab\n",
    "- Otros IDE, VSCode, PyCharm,..."
   ]
  },
  {
   "cell_type": "markdown",
   "metadata": {
    "slideshow": {
     "slide_type": "slide"
    }
   },
   "source": [
    "## Uso de Jupyter notebook\n",
    "- Presentaciones, ejercicios, actividades... __todo__ notebooks\n",
    "- Markdown/HTML + codigo en vivo\n",
    "- Markdown = https://www.markdownguide.org/\n",
    "- Facilita la colaboración y la presentación interactiva de código\n",
    "- En la terminal: __jupyter notebook__\n",
    "- Archivos _.ipynb_\n",
    "- Documentación https://jupyter.readthedocs.io/en/latest/"
   ]
  },
  {
   "cell_type": "markdown",
   "metadata": {
    "slideshow": {
     "slide_type": "subslide"
    }
   },
   "source": [
    "## Contenidos\n",
    "\n",
    "#### Introducción a la sintaxis de Python 3"
   ]
  },
  {
   "cell_type": "code",
   "execution_count": 1,
   "metadata": {},
   "outputs": [
    {
     "name": "stdout",
     "output_type": "stream",
     "text": [
      "el valor 5 para la variable\n"
     ]
    }
   ],
   "source": [
    "# Hello world!!\n",
    "a = 5\n",
    "print(f\"el valor {a} para la variable\")"
   ]
  },
  {
   "cell_type": "code",
   "execution_count": 2,
   "metadata": {
    "slideshow": {
     "slide_type": "fragment"
    }
   },
   "outputs": [
    {
     "name": "stdout",
     "output_type": "stream",
     "text": [
      "[11, 12, 13]\n"
     ]
    }
   ],
   "source": [
    "# funcion para sumar dos elementos\n",
    "def suma(a,b):\n",
    "    return a+b\n",
    "\n",
    "lista = [1,2,3]\n",
    "\n",
    "for i,value in enumerate(lista):\n",
    "    lista[i] = suma(value,10)\n",
    "    \n",
    "print(lista)"
   ]
  },
  {
   "cell_type": "markdown",
   "metadata": {
    "slideshow": {
     "slide_type": "fragment"
    }
   },
   "source": [
    "#### Colecciones\n",
    "\n",
    "#### Uso de librerías fundamentales\n",
    "- NumPy"
   ]
  },
  {
   "cell_type": "code",
   "execution_count": 3,
   "metadata": {
    "slideshow": {
     "slide_type": "fragment"
    }
   },
   "outputs": [
    {
     "data": {
      "text/plain": [
       "array([[ 20,  43],\n",
       "       [ 33,  66],\n",
       "       [ 56,  30],\n",
       "       [180,  86],\n",
       "       [ 89, 109],\n",
       "       [185, 132],\n",
       "       [180, 150],\n",
       "       [101,   5],\n",
       "       [166,  11],\n",
       "       [ 14, 197]])"
      ]
     },
     "execution_count": 3,
     "metadata": {},
     "output_type": "execute_result"
    }
   ],
   "source": [
    "import numpy as np\n",
    "\n",
    "random_list = np.random.randint(200,size=(10,2))\n",
    "random_list"
   ]
  },
  {
   "cell_type": "markdown",
   "metadata": {
    "slideshow": {
     "slide_type": "subslide"
    }
   },
   "source": [
    "- pandas"
   ]
  },
  {
   "cell_type": "code",
   "execution_count": 4,
   "metadata": {
    "slideshow": {
     "slide_type": "fragment"
    }
   },
   "outputs": [
    {
     "data": {
      "text/html": [
       "<div>\n",
       "<style scoped>\n",
       "    .dataframe tbody tr th:only-of-type {\n",
       "        vertical-align: middle;\n",
       "    }\n",
       "\n",
       "    .dataframe tbody tr th {\n",
       "        vertical-align: top;\n",
       "    }\n",
       "\n",
       "    .dataframe thead th {\n",
       "        text-align: right;\n",
       "    }\n",
       "</style>\n",
       "<table border=\"1\" class=\"dataframe\">\n",
       "  <thead>\n",
       "    <tr style=\"text-align: right;\">\n",
       "      <th></th>\n",
       "      <th>0</th>\n",
       "      <th>1</th>\n",
       "    </tr>\n",
       "  </thead>\n",
       "  <tbody>\n",
       "    <tr>\n",
       "      <th>0</th>\n",
       "      <td>20</td>\n",
       "      <td>43</td>\n",
       "    </tr>\n",
       "    <tr>\n",
       "      <th>1</th>\n",
       "      <td>33</td>\n",
       "      <td>66</td>\n",
       "    </tr>\n",
       "    <tr>\n",
       "      <th>2</th>\n",
       "      <td>56</td>\n",
       "      <td>30</td>\n",
       "    </tr>\n",
       "    <tr>\n",
       "      <th>3</th>\n",
       "      <td>180</td>\n",
       "      <td>86</td>\n",
       "    </tr>\n",
       "    <tr>\n",
       "      <th>4</th>\n",
       "      <td>89</td>\n",
       "      <td>109</td>\n",
       "    </tr>\n",
       "    <tr>\n",
       "      <th>5</th>\n",
       "      <td>185</td>\n",
       "      <td>132</td>\n",
       "    </tr>\n",
       "    <tr>\n",
       "      <th>6</th>\n",
       "      <td>180</td>\n",
       "      <td>150</td>\n",
       "    </tr>\n",
       "    <tr>\n",
       "      <th>7</th>\n",
       "      <td>101</td>\n",
       "      <td>5</td>\n",
       "    </tr>\n",
       "    <tr>\n",
       "      <th>8</th>\n",
       "      <td>166</td>\n",
       "      <td>11</td>\n",
       "    </tr>\n",
       "    <tr>\n",
       "      <th>9</th>\n",
       "      <td>14</td>\n",
       "      <td>197</td>\n",
       "    </tr>\n",
       "  </tbody>\n",
       "</table>\n",
       "</div>"
      ],
      "text/plain": [
       "     0    1\n",
       "0   20   43\n",
       "1   33   66\n",
       "2   56   30\n",
       "3  180   86\n",
       "4   89  109\n",
       "5  185  132\n",
       "6  180  150\n",
       "7  101    5\n",
       "8  166   11\n",
       "9   14  197"
      ]
     },
     "execution_count": 4,
     "metadata": {},
     "output_type": "execute_result"
    }
   ],
   "source": [
    "import pandas as pd\n",
    "\n",
    "frame = pd.DataFrame(random_list)\n",
    "frame"
   ]
  },
  {
   "cell_type": "markdown",
   "metadata": {
    "slideshow": {
     "slide_type": "fragment"
    }
   },
   "source": [
    "- matplotlib & seaborn"
   ]
  },
  {
   "cell_type": "code",
   "execution_count": 5,
   "metadata": {
    "slideshow": {
     "slide_type": "fragment"
    }
   },
   "outputs": [
    {
     "data": {
      "image/png": "[encoded data removed]",
      "text/plain": [
       "<Figure size 432x288 with 1 Axes>"
      ]
     },
     "metadata": {
      "needs_background": "light"
     },
     "output_type": "display_data"
    }
   ],
   "source": [
    "%matplotlib inline\n",
    "import matplotlib.pyplot as plt\n",
    "frame.plot()\n",
    "plt.show()"
   ]
  },
  {
   "cell_type": "markdown",
   "metadata": {
    "slideshow": {
     "slide_type": "subslide"
    }
   },
   "source": [
    "#### Introducción a análisis de datos en Python\n",
    "- Trabajar con strings\n",
    "- Limpieza de datos\n",
    "- Escritura y lectura de datos"
   ]
  },
  {
   "cell_type": "markdown",
   "metadata": {
    "slideshow": {
     "slide_type": "subslide"
    }
   },
   "source": [
    "### Homework Jupyter notebook\n",
    "- Entorno Anaconda + Python + Jupyter Notebook instalado\n",
    "- Creación de notebooks\n",
    "- Creación de tipos de celdas\n",
    " - Markdown para texto e imágenes\n",
    " - Code para código"
   ]
  },
  {
   "cell_type": "markdown",
   "metadata": {
    "slideshow": {
     "slide_type": "slide"
    },
    "tags": []
   },
   "source": [
    "## Gracias"
   ]
  }
 ],
 "metadata": {
  "celltoolbar": "Slideshow",
  "kernelspec": {
   "display_name": "Python 3.8.6 64-bit",
   "language": "python",
   "name": "python3"
  },
  "language_info": {
   "codemirror_mode": {
    "name": "ipython",
    "version": 3
   },
   "file_extension": ".py",
   "mimetype": "text/x-python",
   "name": "python",
   "nbconvert_exporter": "python",
   "pygments_lexer": "ipython3",
   "version": "3.8.6"
  },
  "metadata": {
   "interpreter": {
    "hash": "f35a06f707b9576dd6b3ef079e74b1f578cbc33a28427aac1052a70586e6d412"
   }
  },
  "vscode": {
   "interpreter": {
    "hash": "087173a5e80c612d9adb8d6235968b75fe9af0f3d5ab9555b339675e29c96e14"
   }
  }
 },
 "nbformat": 4,
 "nbformat_minor": 4
}
